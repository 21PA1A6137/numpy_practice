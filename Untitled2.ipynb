{
  "nbformat": 4,
  "nbformat_minor": 0,
  "metadata": {
    "colab": {
      "provenance": [],
      "authorship_tag": "ABX9TyNdLGbmAZiq+VyYbxXI8agq",
      "include_colab_link": true
    },
    "kernelspec": {
      "name": "python3",
      "display_name": "Python 3"
    },
    "language_info": {
      "name": "python"
    }
  },
  "cells": [
    {
      "cell_type": "markdown",
      "metadata": {
        "id": "view-in-github",
        "colab_type": "text"
      },
      "source": [
        "<a href=\"https://colab.research.google.com/github/21PA1A6137/numpy_practice/blob/main/Untitled2.ipynb\" target=\"_parent\"><img src=\"https://colab.research.google.com/assets/colab-badge.svg\" alt=\"Open In Colab\"/></a>"
      ]
    },
    {
      "cell_type": "code",
      "source": [
        "import numpy as np"
      ],
      "metadata": {
        "id": "TOErqwxDcw27"
      },
      "execution_count": 2,
      "outputs": []
    },
    {
      "cell_type": "code",
      "source": [
        "x=np.array([1,2,3])\n",
        "print(x)"
      ],
      "metadata": {
        "colab": {
          "base_uri": "https://localhost:8080/"
        },
        "id": "WPxYpobJc7fO",
        "outputId": "2f85f178-ab69-418f-b8ee-54f84353819f"
      },
      "execution_count": 3,
      "outputs": [
        {
          "output_type": "stream",
          "name": "stdout",
          "text": [
            "[1 2 3]\n"
          ]
        }
      ]
    },
    {
      "cell_type": "code",
      "source": [
        "y = np.array([[1,2,3],[4,5,6]])\n",
        "print(y)"
      ],
      "metadata": {
        "colab": {
          "base_uri": "https://localhost:8080/"
        },
        "id": "LrFD4p26dBOx",
        "outputId": "16420242-ac2a-4287-efb1-218e861c9714"
      },
      "execution_count": 4,
      "outputs": [
        {
          "output_type": "stream",
          "name": "stdout",
          "text": [
            "[[1 2 3]\n",
            " [4 5 6]]\n"
          ]
        }
      ]
    },
    {
      "cell_type": "code",
      "source": [
        "np.arange(10,40,5)"
      ],
      "metadata": {
        "colab": {
          "base_uri": "https://localhost:8080/"
        },
        "id": "ZnkEcBuWdJuf",
        "outputId": "680de748-b7f3-4481-b19d-8673dcd59954"
      },
      "execution_count": 5,
      "outputs": [
        {
          "output_type": "execute_result",
          "data": {
            "text/plain": [
              "array([10, 15, 20, 25, 30, 35])"
            ]
          },
          "metadata": {},
          "execution_count": 5
        }
      ]
    },
    {
      "cell_type": "code",
      "source": [
        "a = np.append(x,[7,8,9])\n",
        "print(a)"
      ],
      "metadata": {
        "colab": {
          "base_uri": "https://localhost:8080/"
        },
        "id": "PMeeBr05dSeQ",
        "outputId": "00704d6a-735f-40a0-92e3-43b7dcf63bdb"
      },
      "execution_count": 6,
      "outputs": [
        {
          "output_type": "stream",
          "name": "stdout",
          "text": [
            "[1 2 3 7 8 9]\n"
          ]
        }
      ]
    },
    {
      "cell_type": "code",
      "source": [
        "b = np.delete(x,2)\n",
        "print(b)"
      ],
      "metadata": {
        "colab": {
          "base_uri": "https://localhost:8080/"
        },
        "id": "dWQdgeUcdmKr",
        "outputId": "5e1e0241-41ee-4209-8d39-fe1638dbf11e"
      },
      "execution_count": 7,
      "outputs": [
        {
          "output_type": "stream",
          "name": "stdout",
          "text": [
            "[1 2]\n"
          ]
        }
      ]
    },
    {
      "cell_type": "code",
      "source": [
        "b = np.array([1,2,3,4,5,6,3,6,2,1])\n",
        "b[b<4]=-1\n",
        "print(b)"
      ],
      "metadata": {
        "colab": {
          "base_uri": "https://localhost:8080/"
        },
        "id": "vAo9BQ-xdvOO",
        "outputId": "64b0dbf1-6dcf-4423-dd53-7c376385e582"
      },
      "execution_count": 8,
      "outputs": [
        {
          "output_type": "stream",
          "name": "stdout",
          "text": [
            "[-1 -1 -1  4  5  6 -1  6 -1 -1]\n"
          ]
        }
      ]
    },
    {
      "cell_type": "code",
      "source": [
        "a = np.array([10,20,30])\n",
        "b = np.arange(3)\n",
        "print(a)\n",
        "print(b)\n",
        "print(\"add  \",a+b)\n",
        "print(\"sub  \",a-b)\n",
        "print(\"mul  \",a*b)\n",
        "print(\"div  \",a/b)\n",
        "print(\"power  \",b**4)\n",
        "print(\"sin  \",10*np.sin(a))\n",
        "a[0]+=20\n",
        "print(\"update  \",a)\n",
        "print(\"matrix mult  \",np.dot(a,b))"
      ],
      "metadata": {
        "colab": {
          "base_uri": "https://localhost:8080/"
        },
        "id": "qAaq6eU_eAsB",
        "outputId": "27219e02-c441-446e-ac1e-380d0e587373"
      },
      "execution_count": 9,
      "outputs": [
        {
          "output_type": "stream",
          "name": "stdout",
          "text": [
            "[10 20 30]\n",
            "[0 1 2]\n",
            "add   [10 21 32]\n",
            "sub   [10 19 28]\n",
            "mul   [ 0 20 60]\n",
            "div   [inf 20. 15.]\n",
            "power   [ 0  1 16]\n",
            "sin   [-5.44021111  9.12945251 -9.88031624]\n",
            "update   [30 20 30]\n",
            "matrix mult   80\n"
          ]
        },
        {
          "output_type": "stream",
          "name": "stderr",
          "text": [
            "<ipython-input-9-5a5bc740e9c1>:8: RuntimeWarning: divide by zero encountered in true_divide\n",
            "  print(\"div  \",a/b)\n"
          ]
        }
      ]
    },
    {
      "cell_type": "code",
      "source": [
        "a=np.arange(10)**3\n",
        "print(a)\n",
        "print(a[3])\n",
        "print(a[2:6])\n",
        "print(a[3:7])\n",
        "print(a[-1])\n",
        "print(a[-5:-2])"
      ],
      "metadata": {
        "colab": {
          "base_uri": "https://localhost:8080/"
        },
        "id": "p9kcIkkafun8",
        "outputId": "54e7dd24-5b95-4103-9e0d-923bccf30a33"
      },
      "execution_count": 10,
      "outputs": [
        {
          "output_type": "stream",
          "name": "stdout",
          "text": [
            "[  0   1   8  27  64 125 216 343 512 729]\n",
            "27\n",
            "[  8  27  64 125]\n",
            "[ 27  64 125 216]\n",
            "729\n",
            "[125 216 343]\n"
          ]
        }
      ]
    },
    {
      "cell_type": "code",
      "source": [
        "a = np.arange(16).reshape(4,4)**2\n",
        "print(a)"
      ],
      "metadata": {
        "colab": {
          "base_uri": "https://localhost:8080/"
        },
        "id": "_durs1WUgWpJ",
        "outputId": "2944cfc5-7d0a-4acb-e223-bbc101ac12e2"
      },
      "execution_count": 11,
      "outputs": [
        {
          "output_type": "stream",
          "name": "stdout",
          "text": [
            "[[  0   1   4   9]\n",
            " [ 16  25  36  49]\n",
            " [ 64  81 100 121]\n",
            " [144 169 196 225]]\n"
          ]
        }
      ]
    },
    {
      "cell_type": "code",
      "source": [
        "print(\"second and third rows  \",a[1:3])\n",
        "print(\"second column from second and third rows  \",a[1:3,1:2])"
      ],
      "metadata": {
        "colab": {
          "base_uri": "https://localhost:8080/"
        },
        "id": "12DEVoHNguPy",
        "outputId": "e5e955b3-4233-4894-ecc9-e0859a5e1931"
      },
      "execution_count": 12,
      "outputs": [
        {
          "output_type": "stream",
          "name": "stdout",
          "text": [
            "second and third rows   [[ 16  25  36  49]\n",
            " [ 64  81 100 121]]\n",
            "second column from second and third rows   [[25]\n",
            " [81]]\n"
          ]
        }
      ]
    },
    {
      "cell_type": "code",
      "source": [
        "print(\"third row  \",a[2,])\n",
        "print(\"first,second and third rows  \",a[:3,])\n",
        "print(\"last row  \",a[-1,])"
      ],
      "metadata": {
        "colab": {
          "base_uri": "https://localhost:8080/"
        },
        "id": "-k412idohe_H",
        "outputId": "10ea3c47-125a-4c94-da3b-2485b3c28f78"
      },
      "execution_count": 13,
      "outputs": [
        {
          "output_type": "stream",
          "name": "stdout",
          "text": [
            "third row   [ 64  81 100 121]\n",
            "first,second and third rows   [[  0   1   4   9]\n",
            " [ 16  25  36  49]\n",
            " [ 64  81 100 121]]\n",
            "last row   [144 169 196 225]\n"
          ]
        }
      ]
    },
    {
      "cell_type": "code",
      "source": [
        "print(\"element at second row and third column  \",a[1,2])"
      ],
      "metadata": {
        "colab": {
          "base_uri": "https://localhost:8080/"
        },
        "id": "TLa8e0IBiVm_",
        "outputId": "74392422-bf78-465d-9477-11fd7a463f4f"
      },
      "execution_count": 14,
      "outputs": [
        {
          "output_type": "stream",
          "name": "stdout",
          "text": [
            "element at second row and third column   36\n"
          ]
        }
      ]
    },
    {
      "cell_type": "code",
      "source": [
        "a = np.arange(12).reshape(4,3)**2\n",
        "print(a)\n",
        "print(\"\\n\")\n",
        "for i in a:\n",
        "  print(i*2)"
      ],
      "metadata": {
        "colab": {
          "base_uri": "https://localhost:8080/"
        },
        "id": "JDHAttPeigtB",
        "outputId": "040ce611-c37e-4688-ba0c-d6420f4457da"
      },
      "execution_count": 15,
      "outputs": [
        {
          "output_type": "stream",
          "name": "stdout",
          "text": [
            "[[  0   1   4]\n",
            " [  9  16  25]\n",
            " [ 36  49  64]\n",
            " [ 81 100 121]]\n",
            "\n",
            "\n",
            "[0 2 8]\n",
            "[18 32 50]\n",
            "[ 72  98 128]\n",
            "[162 200 242]\n"
          ]
        }
      ]
    },
    {
      "cell_type": "code",
      "source": [
        "a=np.floor(10*np.random.random((3,4)))\n",
        "print(a)\n",
        "print(\"\\n\")\n",
        "print(a.reshape(4,3))\n",
        "print(\"\\n\")\n",
        "print(\"flatten the array  \",a.ravel())\n",
        "print(\"\\n\")\n",
        "print(\"transpose  \",a.T)"
      ],
      "metadata": {
        "colab": {
          "base_uri": "https://localhost:8080/"
        },
        "id": "Mm7t2SaCi6w8",
        "outputId": "51c49439-e08c-45dc-8c3a-f4495e6abbdf"
      },
      "execution_count": 18,
      "outputs": [
        {
          "output_type": "stream",
          "name": "stdout",
          "text": [
            "[[8. 3. 1. 1.]\n",
            " [0. 7. 5. 5.]\n",
            " [7. 6. 3. 1.]]\n",
            "\n",
            "\n",
            "[[8. 3. 1.]\n",
            " [1. 0. 7.]\n",
            " [5. 5. 7.]\n",
            " [6. 3. 1.]]\n",
            "\n",
            "\n",
            "flatten the array   [8. 3. 1. 1. 0. 7. 5. 5. 7. 6. 3. 1.]\n",
            "\n",
            "\n",
            "transpose   [[8. 0. 7.]\n",
            " [3. 7. 6.]\n",
            " [1. 5. 3.]\n",
            " [1. 5. 1.]]\n"
          ]
        }
      ]
    }
  ]
}